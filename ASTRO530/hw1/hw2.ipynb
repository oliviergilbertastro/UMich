{
 "cells": [
  {
   "cell_type": "markdown",
   "id": "b2b27697",
   "metadata": {},
   "source": [
    "# Homework 2 - Olivier Gilbert"
   ]
  },
  {
   "cell_type": "markdown",
   "id": "b4417ad8",
   "metadata": {},
   "source": [
    "## 1."
   ]
  },
  {
   "cell_type": "markdown",
   "id": "4fbc605c",
   "metadata": {},
   "source": [
    "### a)"
   ]
  },
  {
   "cell_type": "code",
   "execution_count": null,
   "id": "4c771c9d",
   "metadata": {},
   "outputs": [],
   "source": [
    "import numpy as np\n",
    "\n",
    "def gaussian_spec_line(wavelenghts:np.ndarray, lambda_0:float, tau_0:float, sigma:float) -> np.ndarray:\n",
    "    \"\"\"Returns an array of tau as a function of wavelengths\"\"\"\n",
    "    return (\n",
    "        1 / (np.sqrt(2.0 * np.pi) * sigma) * np.exp(-np.power((wavelenghts-lambda_0) / sigma, 2.0) / 2)\n",
    "    )"
   ]
  },
  {
   "cell_type": "markdown",
   "id": "26a7dc40",
   "metadata": {},
   "source": [
    "### b)"
   ]
  },
  {
   "cell_type": "code",
   "execution_count": null,
   "id": "ee7252ca",
   "metadata": {},
   "outputs": [],
   "source": [
    "def intensity(tau_lambda:np.ndarray, I_0:float, S) -> np.ndarray:\n",
    "    \"\"\"Assume S is a multiplication of I_0. Assume I_0 is constant over the line width.\"\"\"\n",
    "    return I_0*np.exp(-tau_lambda)+S\n",
    "\n",
    "def intensity_v2(tau_lambda:np.ndarray, I_0:np.ndarray, S:np.ndarray) -> np.ndarray:\n",
    "    \"\"\"More general definition of I_0 and S.\"\"\"\n",
    "    return I_0*np.exp(-tau_lambda)+S"
   ]
  },
  {
   "cell_type": "markdown",
   "id": "c94980e2",
   "metadata": {},
   "source": []
  }
 ],
 "metadata": {
  "kernelspec": {
   "display_name": "astro532",
   "language": "python",
   "name": "python3"
  },
  "language_info": {
   "codemirror_mode": {
    "name": "ipython",
    "version": 3
   },
   "file_extension": ".py",
   "mimetype": "text/x-python",
   "name": "python",
   "nbconvert_exporter": "python",
   "pygments_lexer": "ipython3",
   "version": "3.13.5"
  }
 },
 "nbformat": 4,
 "nbformat_minor": 5
}
